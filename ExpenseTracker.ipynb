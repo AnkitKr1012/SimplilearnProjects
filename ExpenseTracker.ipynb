{
 "cells": [
  {
   "cell_type": "code",
   "execution_count": 2,
   "id": "a89223c8-bf13-41ab-a048-8502c5182212",
   "metadata": {},
   "outputs": [],
   "source": [
    "#import all libraries\n",
    "\n",
    "import csv\n",
    "import os\n",
    "from datetime import datetime\n",
    "\n",
    "expenses = []\n",
    "monthly_budget = 0.0\n",
    "expense_file = 'expenses.csv'"
   ]
  },
  {
   "cell_type": "code",
   "execution_count": 3,
   "id": "4cfc7faf-e177-43ea-840c-a2aaed8ec159",
   "metadata": {},
   "outputs": [],
   "source": [
    "#This cell defines the function `load_expenses`\n",
    "def load_expenses():\n",
    "    global expenses\n",
    "    if os.path.exists(expense_file):\n",
    "        with open(expense_file, mode='r', newline='') as file:\n",
    "            reader = csv.DictReader(file)\n",
    "            for row in reader:\n",
    "                try:\n",
    "                    expenses.append({\n",
    "                        'date': row['date'],\n",
    "                        'category': row['category'],\n",
    "                        'amount': float(row['amount']),\n",
    "                        'description': row['description']\n",
    "                    })\n",
    "                except (ValueError, KeyError):\n",
    "                    print(\"Skipping corrupted entry in file.\")\n",
    "    else:\n",
    "        print(\"No previous expense file found. Starting fresh.\")"
   ]
  },
  {
   "cell_type": "code",
   "execution_count": 4,
   "id": "a1632d64-1e2e-4627-82c8-e7405d2e6dcf",
   "metadata": {},
   "outputs": [],
   "source": [
    "#This cell defines the function `save_expenses`\n",
    "def save_expenses():\n",
    "    with open(expense_file, mode='w', newline='') as file:\n",
    "        fieldnames = ['date', 'category', 'amount', 'description']\n",
    "        writer = csv.DictWriter(file, fieldnames=fieldnames)\n",
    "        writer.writeheader()\n",
    "        for expense in expenses:\n",
    "            writer.writerow(expense)\n",
    "    print(\"Expenses saved successfully.\")"
   ]
  },
  {
   "cell_type": "code",
   "execution_count": 5,
   "id": "9a38ecf6-e7a9-4428-a5f5-4f9668935cc9",
   "metadata": {},
   "outputs": [],
   "source": [
    "#This cell defines the function `add_expense`\n",
    "def add_expense():\n",
    "    try:\n",
    "        date = input(\"Enter date (YYYY-MM-DD): \")\n",
    "        datetime.strptime(date, '%Y-%m-%d')\n",
    "        category = input(\"Enter category (e.g., Food, Travel): \").strip()\n",
    "        amount = float(input(\"Enter amount: \"))\n",
    "        description = input(\"Enter description: \").strip()\n",
    "\n",
    "        expenses.append({\n",
    "            'date': date,\n",
    "            'category': category,\n",
    "            'amount': amount,\n",
    "            'description': description\n",
    "        })\n",
    "        print(\"Expense added successfully.\")\n",
    "    except ValueError:\n",
    "        print(\"Invalid input. Please try again.\")"
   ]
  },
  {
   "cell_type": "code",
   "execution_count": 6,
   "id": "3f2f2a71-4f81-45b3-a702-ce164780907d",
   "metadata": {},
   "outputs": [],
   "source": [
    "#This cell defines the function `view_expenses`\n",
    "def view_expenses():\n",
    "    if not expenses:\n",
    "        print(\"No expenses to show.\")\n",
    "        return\n",
    "    print(\"\\nAll Expenses:\")\n",
    "    for exp in expenses:\n",
    "        if all(k in exp for k in ['date', 'category', 'amount', 'description']):\n",
    "            print(f\"{exp['date']} | {exp['category']} | ${exp['amount']:.2f} | {exp['description']}\")\n",
    "        else:\n",
    "            print(\"Incomplete entry skipped.\")"
   ]
  },
  {
   "cell_type": "code",
   "execution_count": 7,
   "id": "b81414b2-f0ba-4080-952a-98531e998181",
   "metadata": {},
   "outputs": [],
   "source": [
    "#This cell defines the function `track_budget`\n",
    "def track_budget():\n",
    "    global monthly_budget\n",
    "    if monthly_budget == 0:\n",
    "        try:\n",
    "            monthly_budget = float(input(\"Enter your monthly budget: \"))\n",
    "        except ValueError:\n",
    "            print(\"Invalid budget input.\")\n",
    "            return\n",
    "\n",
    "    total_spent = sum(exp['amount'] for exp in expenses)\n",
    "    print(f\"\\nTotal spent: ${total_spent:.2f}\")\n",
    "    if total_spent > monthly_budget:\n",
    "        print(\"Warning: You have exceeded your budget!\")\n",
    "    else:\n",
    "        remaining = monthly_budget - total_spent\n",
    "        print(f\"You have ${remaining:.2f} left for the month.\")"
   ]
  },
  {
   "cell_type": "code",
   "execution_count": 8,
   "id": "4be06096-3f3a-4465-950f-5cd61446fdcc",
   "metadata": {},
   "outputs": [],
   "source": [
    "#This cell defines the function `display_menu`\n",
    "def display_menu():\n",
    "    print(\"\\n--- Personal Expense Tracker Menu ---\")\n",
    "    print(\"1. Add expense\")\n",
    "    print(\"2. View expenses\")\n",
    "    print(\"3. Track budget\")\n",
    "    print(\"4. Save expenses\")\n",
    "    print(\"5. Exit\")"
   ]
  },
  {
   "cell_type": "code",
   "execution_count": 9,
   "id": "f0b80f7e-2dc2-43bf-947d-ab5a714b3793",
   "metadata": {},
   "outputs": [],
   "source": [
    "#This cell defines the function `main`\n",
    "def main():\n",
    "    load_expenses()\n",
    "    while True:\n",
    "        display_menu()\n",
    "        choice = input(\"Choose an option (1-5): \").strip()\n",
    "        if choice == '1':\n",
    "            add_expense()\n",
    "        elif choice == '2':\n",
    "            view_expenses()\n",
    "        elif choice == '3':\n",
    "            track_budget()\n",
    "        elif choice == '4':\n",
    "            save_expenses()\n",
    "        elif choice == '5':\n",
    "            save_expenses()\n",
    "            print(\"Exiting. Goodbye!\")\n",
    "            break\n",
    "        else:\n",
    "            print(\"Invalid choice. Please select from 1 to 5.\")"
   ]
  },
  {
   "cell_type": "code",
   "execution_count": 10,
   "id": "97496574-e59e-4ede-ba8b-cf021cb42b59",
   "metadata": {},
   "outputs": [
    {
     "name": "stdout",
     "output_type": "stream",
     "text": [
      "No previous expense file found. Starting fresh.\n",
      "\n",
      "--- Personal Expense Tracker Menu ---\n",
      "1. Add expense\n",
      "2. View expenses\n",
      "3. Track budget\n",
      "4. Save expenses\n",
      "5. Exit\n"
     ]
    },
    {
     "name": "stdin",
     "output_type": "stream",
     "text": [
      "Choose an option (1-5):  1\n",
      "Enter date (YYYY-MM-DD):  2024-04-02\n",
      "Enter category (e.g., Food, Travel):  Food\n",
      "Enter amount:  5000\n",
      "Enter description:  Grocery\n"
     ]
    },
    {
     "name": "stdout",
     "output_type": "stream",
     "text": [
      "Expense added successfully.\n",
      "\n",
      "--- Personal Expense Tracker Menu ---\n",
      "1. Add expense\n",
      "2. View expenses\n",
      "3. Track budget\n",
      "4. Save expenses\n",
      "5. Exit\n"
     ]
    },
    {
     "name": "stdin",
     "output_type": "stream",
     "text": [
      "Choose an option (1-5):  1\n",
      "Enter date (YYYY-MM-DD):  2025-04-05\n",
      "Enter category (e.g., Food, Travel):  Loan\n",
      "Enter amount:  30000\n",
      "Enter description:  Loan Emi\n"
     ]
    },
    {
     "name": "stdout",
     "output_type": "stream",
     "text": [
      "Expense added successfully.\n",
      "\n",
      "--- Personal Expense Tracker Menu ---\n",
      "1. Add expense\n",
      "2. View expenses\n",
      "3. Track budget\n",
      "4. Save expenses\n",
      "5. Exit\n"
     ]
    },
    {
     "name": "stdin",
     "output_type": "stream",
     "text": [
      "Choose an option (1-5):  1\n",
      "Enter date (YYYY-MM-DD):  2025-04-10\n",
      "Enter category (e.g., Food, Travel):  MF\n",
      "Enter amount:  20000\n",
      "Enter description:  MF\n"
     ]
    },
    {
     "name": "stdout",
     "output_type": "stream",
     "text": [
      "Expense added successfully.\n",
      "\n",
      "--- Personal Expense Tracker Menu ---\n",
      "1. Add expense\n",
      "2. View expenses\n",
      "3. Track budget\n",
      "4. Save expenses\n",
      "5. Exit\n"
     ]
    },
    {
     "name": "stdin",
     "output_type": "stream",
     "text": [
      "Choose an option (1-5):  1\n",
      "Enter date (YYYY-MM-DD):  2025-04-15\n",
      "Enter category (e.g., Food, Travel):  Travel\n",
      "Enter amount:  15000\n",
      "Enter description:  Travelling\n"
     ]
    },
    {
     "name": "stdout",
     "output_type": "stream",
     "text": [
      "Expense added successfully.\n",
      "\n",
      "--- Personal Expense Tracker Menu ---\n",
      "1. Add expense\n",
      "2. View expenses\n",
      "3. Track budget\n",
      "4. Save expenses\n",
      "5. Exit\n"
     ]
    },
    {
     "name": "stdin",
     "output_type": "stream",
     "text": [
      "Choose an option (1-5):  1\n",
      "Enter date (YYYY-MM-DD):  2025-04-25\n",
      "Enter category (e.g., Food, Travel):  Party\n",
      "Enter amount:  3000\n",
      "Enter description:  Office Party\n"
     ]
    },
    {
     "name": "stdout",
     "output_type": "stream",
     "text": [
      "Expense added successfully.\n",
      "\n",
      "--- Personal Expense Tracker Menu ---\n",
      "1. Add expense\n",
      "2. View expenses\n",
      "3. Track budget\n",
      "4. Save expenses\n",
      "5. Exit\n"
     ]
    },
    {
     "name": "stdin",
     "output_type": "stream",
     "text": [
      "Choose an option (1-5):  2\n"
     ]
    },
    {
     "name": "stdout",
     "output_type": "stream",
     "text": [
      "\n",
      "All Expenses:\n",
      "2024-04-02 | Food | $5000.00 | Grocery\n",
      "2025-04-05 | Loan | $30000.00 | Loan Emi\n",
      "2025-04-10 | MF | $20000.00 | MF\n",
      "2025-04-15 | Travel | $15000.00 | Travelling\n",
      "2025-04-25 | Party | $3000.00 | Office Party\n",
      "\n",
      "--- Personal Expense Tracker Menu ---\n",
      "1. Add expense\n",
      "2. View expenses\n",
      "3. Track budget\n",
      "4. Save expenses\n",
      "5. Exit\n"
     ]
    },
    {
     "name": "stdin",
     "output_type": "stream",
     "text": [
      "Choose an option (1-5):  3\n",
      "Enter your monthly budget:  130000\n"
     ]
    },
    {
     "name": "stdout",
     "output_type": "stream",
     "text": [
      "\n",
      "Total spent: $73000.00\n",
      "You have $57000.00 left for the month.\n",
      "\n",
      "--- Personal Expense Tracker Menu ---\n",
      "1. Add expense\n",
      "2. View expenses\n",
      "3. Track budget\n",
      "4. Save expenses\n",
      "5. Exit\n"
     ]
    },
    {
     "name": "stdin",
     "output_type": "stream",
     "text": [
      "Choose an option (1-5):  4\n"
     ]
    },
    {
     "name": "stdout",
     "output_type": "stream",
     "text": [
      "Expenses saved successfully.\n",
      "\n",
      "--- Personal Expense Tracker Menu ---\n",
      "1. Add expense\n",
      "2. View expenses\n",
      "3. Track budget\n",
      "4. Save expenses\n",
      "5. Exit\n"
     ]
    },
    {
     "name": "stdin",
     "output_type": "stream",
     "text": [
      "Choose an option (1-5):  1\n",
      "Enter date (YYYY-MM-DD):  2025-04-27\n",
      "Enter category (e.g., Food, Travel):  Medical\n",
      "Enter amount:  10000\n",
      "Enter description:  Vaccination\n"
     ]
    },
    {
     "name": "stdout",
     "output_type": "stream",
     "text": [
      "Expense added successfully.\n",
      "\n",
      "--- Personal Expense Tracker Menu ---\n",
      "1. Add expense\n",
      "2. View expenses\n",
      "3. Track budget\n",
      "4. Save expenses\n",
      "5. Exit\n"
     ]
    },
    {
     "name": "stdin",
     "output_type": "stream",
     "text": [
      "Choose an option (1-5):  4\n"
     ]
    },
    {
     "name": "stdout",
     "output_type": "stream",
     "text": [
      "Expenses saved successfully.\n",
      "\n",
      "--- Personal Expense Tracker Menu ---\n",
      "1. Add expense\n",
      "2. View expenses\n",
      "3. Track budget\n",
      "4. Save expenses\n",
      "5. Exit\n"
     ]
    },
    {
     "name": "stdin",
     "output_type": "stream",
     "text": [
      "Choose an option (1-5):  3\n"
     ]
    },
    {
     "name": "stdout",
     "output_type": "stream",
     "text": [
      "\n",
      "Total spent: $83000.00\n",
      "You have $47000.00 left for the month.\n",
      "\n",
      "--- Personal Expense Tracker Menu ---\n",
      "1. Add expense\n",
      "2. View expenses\n",
      "3. Track budget\n",
      "4. Save expenses\n",
      "5. Exit\n"
     ]
    },
    {
     "name": "stdin",
     "output_type": "stream",
     "text": [
      "Choose an option (1-5):  5\n"
     ]
    },
    {
     "name": "stdout",
     "output_type": "stream",
     "text": [
      "Expenses saved successfully.\n",
      "Exiting. Goodbye!\n"
     ]
    }
   ],
   "source": [
    "#This cell calls the `main()` function to run the program.\n",
    "main()"
   ]
  },
  {
   "cell_type": "code",
   "execution_count": null,
   "id": "24394eb0-e1dc-4b74-931e-0cbccca048d5",
   "metadata": {},
   "outputs": [],
   "source": []
  }
 ],
 "metadata": {
  "kernelspec": {
   "display_name": "Python 3 [3.10]",
   "language": "python",
   "name": "python3"
  },
  "language_info": {
   "codemirror_mode": {
    "name": "ipython",
    "version": 3
   },
   "file_extension": ".py",
   "mimetype": "text/x-python",
   "name": "python",
   "nbconvert_exporter": "python",
   "pygments_lexer": "ipython3",
   "version": "3.10.2"
  }
 },
 "nbformat": 4,
 "nbformat_minor": 5
}
